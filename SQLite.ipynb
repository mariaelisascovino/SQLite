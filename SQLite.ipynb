{
  "nbformat": 4,
  "nbformat_minor": 0,
  "metadata": {
    "colab": {
      "provenance": []
    },
    "kernelspec": {
      "name": "python3",
      "display_name": "Python 3"
    },
    "language_info": {
      "name": "python"
    }
  },
  "cells": [
    {
      "cell_type": "markdown",
      "source": [
        "Exercícios Banco de Dados\n",
        "1. Crie uma tabela chamada \"alunos\" com os seguintes campos: id(inteiro), nome (texto), idade (inteiro) e curso (texto)."
      ],
      "metadata": {
        "id": "7MtZFlytLtiz"
      }
    },
    {
      "cell_type": "code",
      "source": [
        "#importando\n",
        "import sqlite3\n",
        "import pandas as pd"
      ],
      "metadata": {
        "id": "rKT3L2acLu9y"
      },
      "execution_count": null,
      "outputs": []
    },
    {
      "cell_type": "code",
      "source": [
        "#conexão e criando tabela com o create table\n",
        "\n",
        "conexao = sqlite3.connect('db_novo1')\n",
        "cursor = conexao.cursor()\n",
        "cursor.execute('CREATE TABLE alunos(id INT, nome TEXT, idade INT, curso TEXT);')\n",
        "\n",
        "\n"
      ],
      "metadata": {
        "id": "NgFeslhuL31b",
        "colab": {
          "base_uri": "https://localhost:8080/"
        },
        "outputId": "a0f9fcf8-24ce-495f-c5f4-22dc8fcd2688"
      },
      "execution_count": null,
      "outputs": [
        {
          "output_type": "execute_result",
          "data": {
            "text/plain": [
              "<sqlite3.Cursor at 0x781f365e0ec0>"
            ]
          },
          "metadata": {},
          "execution_count": 3
        }
      ]
    },
    {
      "cell_type": "markdown",
      "source": [
        "2. Insira pelo menos 5 registros de alunos na tabela que você criou no exercício anterior."
      ],
      "metadata": {
        "id": "_JkoKRkyL83K"
      }
    },
    {
      "cell_type": "code",
      "source": [
        "# Inserindo dados de 5 alunos\n",
        "cursor.execute('INSERT INTO alunos(id,nome,idade,curso) VALUES (1, \"Alice\", 20, \"Matemática\"),(2, \"Bruno\", 22, \"Física\"),(3, \"Carla\", 19, \"Química\"),(4, \"Daniel\", 21, \"Biologia\"),(5, \"Eva\", 20, \"Engenharia\")')\n"
      ],
      "metadata": {
        "id": "c2HQ0fN1L9xD",
        "colab": {
          "base_uri": "https://localhost:8080/"
        },
        "outputId": "fa0287b2-23f4-4f1e-ecc4-dce5074ebc65"
      },
      "execution_count": null,
      "outputs": [
        {
          "output_type": "execute_result",
          "data": {
            "text/plain": [
              "<sqlite3.Cursor at 0x781f364735c0>"
            ]
          },
          "metadata": {},
          "execution_count": 5
        }
      ]
    },
    {
      "cell_type": "markdown",
      "source": [
        "3. Consultas Básicas\n",
        "\n",
        "Escreva consultas SQL para realizar as seguintes tarefas:\n",
        "\n",
        "a) Selecionar todos os registros da tabela \"alunos\".\n"
      ],
      "metadata": {
        "id": "4AYGoAs9MFay"
      }
    },
    {
      "cell_type": "code",
      "source": [
        "#Visualizando dados da tabela:\n",
        "dados = cursor.execute('SELECT * FROM alunos')\n",
        "for alunos in dados:\n",
        "    print(alunos)"
      ],
      "metadata": {
        "colab": {
          "base_uri": "https://localhost:8080/"
        },
        "id": "HIKQ5qGwUFZT",
        "outputId": "a830f4a0-9c7e-4599-a96f-55842a2d533d"
      },
      "execution_count": null,
      "outputs": [
        {
          "output_type": "stream",
          "name": "stdout",
          "text": [
            "(1, 'Alice', 20, 'Matemática')\n",
            "(2, 'Bruno', 22, 'Física')\n",
            "(3, 'Carla', 19, 'Química')\n",
            "(4, 'Daniel', 21, 'Biologia')\n",
            "(5, 'Eva', 20, 'Engenharia')\n"
          ]
        }
      ]
    },
    {
      "cell_type": "markdown",
      "source": [
        "b) Selecionar o nome e a idade dos alunos com mais de 20 anos.\n"
      ],
      "metadata": {
        "id": "nFqzHY7AMWkT"
      }
    },
    {
      "cell_type": "code",
      "source": [
        "#Consultando dados de nome e idade de alunos maiores de 20 anos:\n",
        "dados = cursor.execute('SELECT nome, idade FROM alunos WHERE idade > 20;')\n",
        "for alunos in dados:\n",
        "    print(alunos)\n"
      ],
      "metadata": {
        "colab": {
          "base_uri": "https://localhost:8080/"
        },
        "id": "G29eZ3pmckBu",
        "outputId": "39908149-da29-4111-a97a-55a400ef3dce"
      },
      "execution_count": null,
      "outputs": [
        {
          "output_type": "stream",
          "name": "stdout",
          "text": [
            "('Bruno', 22)\n",
            "('Daniel', 21)\n"
          ]
        }
      ]
    },
    {
      "cell_type": "markdown",
      "source": [
        "c) Selecionar os alunos do curso de \"Engenharia\" em ordem\n",
        "alfabética.\n"
      ],
      "metadata": {
        "id": "znfpx47aMdnc"
      }
    },
    {
      "cell_type": "code",
      "source": [
        "###inserindo novos alunos ao curso de Engenharia\n",
        "\n",
        "# Inserindo dados de 3 alunos\n",
        "cursor.execute('INSERT INTO alunos(id,nome,idade,curso) VALUES (6, \"Fernando\", 21, \"Engenharia\"),(7, \"Gabriela\", 22, \"Engenharia\"),(8, \"Hugo\", 20, \"Engenharia\")')\n",
        "\n"
      ],
      "metadata": {
        "id": "dpFmwRRbMfta",
        "colab": {
          "base_uri": "https://localhost:8080/"
        },
        "outputId": "da22fc25-dd72-478e-cef8-03b8a94d09a7"
      },
      "execution_count": null,
      "outputs": [
        {
          "output_type": "execute_result",
          "data": {
            "text/plain": [
              "<sqlite3.Cursor at 0x781f364735c0>"
            ]
          },
          "metadata": {},
          "execution_count": 8
        }
      ]
    },
    {
      "cell_type": "code",
      "source": [
        "#Visualizando dados atualizados:\n",
        "dados = cursor.execute('SELECT * FROM alunos')\n",
        "for alunos in dados:\n",
        "    print(alunos)"
      ],
      "metadata": {
        "colab": {
          "base_uri": "https://localhost:8080/"
        },
        "id": "ZnI9WVhpMpuK",
        "outputId": "0a5cf76a-39ef-46f9-c664-5344a12cf6ce"
      },
      "execution_count": null,
      "outputs": [
        {
          "output_type": "stream",
          "name": "stdout",
          "text": [
            "(1, 'Alice', 20, 'Matemática')\n",
            "(2, 'Bruno', 22, 'Física')\n",
            "(3, 'Carla', 19, 'Química')\n",
            "(4, 'Daniel', 21, 'Biologia')\n",
            "(5, 'Eva', 20, 'Engenharia')\n",
            "(6, 'Fernando', 21, 'Engenharia')\n",
            "(7, 'Gabriela', 22, 'Engenharia')\n",
            "(8, 'Hugo', 20, 'Engenharia')\n"
          ]
        }
      ]
    },
    {
      "cell_type": "code",
      "source": [
        "#consultando alunos do curso de \"Engenharia\" em ordem alfabética\n",
        "dados = cursor.execute('SELECT * FROM alunos WHERE curso =\"Engenharia\" ORDER BY nome')\n",
        "for alunos in dados:\n",
        "    print(alunos)\n"
      ],
      "metadata": {
        "colab": {
          "base_uri": "https://localhost:8080/"
        },
        "id": "pcYDEe1ABzw6",
        "outputId": "5fd79cba-2b9b-443d-f852-3819e63bbb8f"
      },
      "execution_count": null,
      "outputs": [
        {
          "output_type": "stream",
          "name": "stdout",
          "text": [
            "(5, 'Eva', 20, 'Engenharia')\n",
            "(6, 'Fernando', 21, 'Engenharia')\n",
            "(7, 'Gabriela', 22, 'Engenharia')\n",
            "(8, 'Hugo', 20, 'Engenharia')\n"
          ]
        }
      ]
    },
    {
      "cell_type": "markdown",
      "source": [
        "d) Contar o número total de alunos na tabela"
      ],
      "metadata": {
        "id": "dTUDYLe4CCdI"
      }
    },
    {
      "cell_type": "code",
      "source": [
        "# Contando o número total de alunos\n",
        "dados = cursor.execute('SELECT COUNT(*) FROM alunos')\n",
        "for alunos in dados:\n",
        "    print(alunos)"
      ],
      "metadata": {
        "colab": {
          "base_uri": "https://localhost:8080/"
        },
        "id": "eHbKLxEWRAjg",
        "outputId": "48596ced-a5fd-4521-ae1e-9811e4879b11"
      },
      "execution_count": null,
      "outputs": [
        {
          "output_type": "stream",
          "name": "stdout",
          "text": [
            "(8,)\n"
          ]
        }
      ]
    },
    {
      "cell_type": "markdown",
      "source": [
        "4. Atualização e Remoção\n",
        "\n",
        "a) Atualize a idade de um aluno específico na tabela.\n"
      ],
      "metadata": {
        "id": "bBVKSk1dFm6U"
      }
    },
    {
      "cell_type": "code",
      "source": [
        "#Atualizando idade de Gabriela id=7 de 22 para 23 anos\n",
        "cursor.execute('UPDATE alunos SET idade = 23 WHERE id=7')\n"
      ],
      "metadata": {
        "colab": {
          "base_uri": "https://localhost:8080/"
        },
        "id": "uYdeApDxEGgN",
        "outputId": "3ae0bfa6-8161-4cb6-be79-d574bc29c58c"
      },
      "execution_count": null,
      "outputs": [
        {
          "output_type": "execute_result",
          "data": {
            "text/plain": [
              "<sqlite3.Cursor at 0x781f364735c0>"
            ]
          },
          "metadata": {},
          "execution_count": 12
        }
      ]
    },
    {
      "cell_type": "code",
      "source": [
        "#Visualizando dados atualizados:\n",
        "dados = cursor.execute('SELECT * FROM alunos')\n",
        "for alunos in dados:\n",
        "    print(alunos)"
      ],
      "metadata": {
        "colab": {
          "base_uri": "https://localhost:8080/"
        },
        "id": "rQ1dSNT3Fi_8",
        "outputId": "2278a3c9-3c9c-4320-f9be-787d6bd38f0c"
      },
      "execution_count": null,
      "outputs": [
        {
          "output_type": "stream",
          "name": "stdout",
          "text": [
            "(1, 'Alice', 20, 'Matemática')\n",
            "(2, 'Bruno', 22, 'Física')\n",
            "(3, 'Carla', 19, 'Química')\n",
            "(4, 'Daniel', 21, 'Biologia')\n",
            "(5, 'Eva', 20, 'Engenharia')\n",
            "(6, 'Fernando', 21, 'Engenharia')\n",
            "(7, 'Gabriela', 23, 'Engenharia')\n",
            "(8, 'Hugo', 20, 'Engenharia')\n"
          ]
        }
      ]
    },
    {
      "cell_type": "markdown",
      "source": [
        "b) Remova um aluno pelo seu ID."
      ],
      "metadata": {
        "id": "ZwTBaoPvGUrZ"
      }
    },
    {
      "cell_type": "code",
      "source": [
        "#Deletando aluno Carla pelo ID\n",
        "cursor.execute('DELETE FROM alunos WHERE id=3')"
      ],
      "metadata": {
        "colab": {
          "base_uri": "https://localhost:8080/"
        },
        "id": "PkHKXsH5GP4h",
        "outputId": "4fc6deea-0fa9-4659-f04f-33b08cea3e85"
      },
      "execution_count": null,
      "outputs": [
        {
          "output_type": "execute_result",
          "data": {
            "text/plain": [
              "<sqlite3.Cursor at 0x781f364735c0>"
            ]
          },
          "metadata": {},
          "execution_count": 14
        }
      ]
    },
    {
      "cell_type": "code",
      "source": [
        "#Visualizando dados atualizados:\n",
        "dados = cursor.execute('SELECT * FROM alunos')\n",
        "for alunos in dados:\n",
        "    print(alunos)\n"
      ],
      "metadata": {
        "colab": {
          "base_uri": "https://localhost:8080/"
        },
        "id": "Cc7_QIMeGYRq",
        "outputId": "266712fc-2d21-4bea-8cf1-a8d11f751b7b"
      },
      "execution_count": null,
      "outputs": [
        {
          "output_type": "stream",
          "name": "stdout",
          "text": [
            "(1, 'Alice', 20, 'Matemática')\n",
            "(2, 'Bruno', 22, 'Física')\n",
            "(4, 'Daniel', 21, 'Biologia')\n",
            "(5, 'Eva', 20, 'Engenharia')\n",
            "(6, 'Fernando', 21, 'Engenharia')\n",
            "(7, 'Gabriela', 23, 'Engenharia')\n",
            "(8, 'Hugo', 20, 'Engenharia')\n"
          ]
        }
      ]
    },
    {
      "cell_type": "markdown",
      "source": [
        "5. Criar uma Tabela e Inserir Dados\n",
        "\n",
        "Crie uma tabela chamada \"clientes\" com os campos: id (chave\n",
        "primária), nome (texto), idade (inteiro) e saldo (float). Insira alguns\n",
        "registros de clientes na tabela."
      ],
      "metadata": {
        "id": "6MWP94nBGyB5"
      }
    },
    {
      "cell_type": "code",
      "source": [
        "conexao = sqlite3.connect('db_novo2')\n",
        "cursor = conexao.cursor()\n",
        "\n",
        "#Criando tabela \"Clientes\"\n",
        "cursor.execute('CREATE TABLE clientes (id INTEGER PRIMARY KEY, nome TEXT, idade INT, saldo FLOAT)')"
      ],
      "metadata": {
        "colab": {
          "base_uri": "https://localhost:8080/"
        },
        "id": "VuObI7NCG1BB",
        "outputId": "35961679-d66e-45d3-debd-a7f472826f3b"
      },
      "execution_count": null,
      "outputs": [
        {
          "output_type": "execute_result",
          "data": {
            "text/plain": [
              "<sqlite3.Cursor at 0x781f365e0b40>"
            ]
          },
          "metadata": {},
          "execution_count": 16
        }
      ]
    },
    {
      "cell_type": "code",
      "source": [
        "#Inserindo dados na tabela\n",
        "cursor.execute('INSERT INTO clientes(id,nome,idade,saldo) VALUES (1, \"Alice\", 30, 1500.75),(2, \"Bruno\", 25, 2000.00),(3, \"Carla\", 28, 2500.50),(4, \"Daniel\", 35, 1800.25)')\n"
      ],
      "metadata": {
        "colab": {
          "base_uri": "https://localhost:8080/"
        },
        "id": "n58QcUbZKZJr",
        "outputId": "b6c07ffe-203f-405f-f9c9-7bd0ce8041b8"
      },
      "execution_count": null,
      "outputs": [
        {
          "output_type": "execute_result",
          "data": {
            "text/plain": [
              "<sqlite3.Cursor at 0x781f365e0b40>"
            ]
          },
          "metadata": {},
          "execution_count": 17
        }
      ]
    },
    {
      "cell_type": "code",
      "source": [
        "#Visualizando dados da tabela:\n",
        "dados = cursor.execute('SELECT * FROM clientes')\n",
        "for clientes in dados:\n",
        "    print(clientes)"
      ],
      "metadata": {
        "colab": {
          "base_uri": "https://localhost:8080/"
        },
        "id": "c9EE8XMVKdSi",
        "outputId": "9b276ee9-9aea-48bb-dddb-a0d14c71f6d2"
      },
      "execution_count": null,
      "outputs": [
        {
          "output_type": "stream",
          "name": "stdout",
          "text": [
            "(1, 'Alice', 30, 1500.75)\n",
            "(2, 'Bruno', 25, 2000.0)\n",
            "(3, 'Carla', 28, 2500.5)\n",
            "(4, 'Daniel', 35, 1800.25)\n"
          ]
        }
      ]
    },
    {
      "cell_type": "markdown",
      "source": [
        "6. Consultas e Funções Agregadas\n",
        "\n",
        "Escreva consultas SQL para realizar as seguintes tarefas:\n",
        "\n",
        "a) Selecione o nome e a idade dos clientes com idade superior a 30 anos"
      ],
      "metadata": {
        "id": "JR5qd4NUPOKn"
      }
    },
    {
      "cell_type": "code",
      "source": [
        "#Selecionando nome e idade de clientes maiores de 30 anos:\n",
        "\n",
        "dados = cursor.execute('SELECT nome, idade FROM clientes WHERE idade > 30')\n",
        "for clientes in dados:\n",
        "    print(clientes)"
      ],
      "metadata": {
        "colab": {
          "base_uri": "https://localhost:8080/"
        },
        "id": "AGXHWEcMPO0X",
        "outputId": "b6b84ab6-3b17-4904-b69b-7b807b20d2ce"
      },
      "execution_count": null,
      "outputs": [
        {
          "output_type": "stream",
          "name": "stdout",
          "text": [
            "('Daniel', 35)\n"
          ]
        }
      ]
    },
    {
      "cell_type": "markdown",
      "source": [
        "b) Calcule o saldo médio dos clientes"
      ],
      "metadata": {
        "id": "9AxqQzIIQ9pp"
      }
    },
    {
      "cell_type": "code",
      "source": [
        "#Calculando a média do saldo dos clientes:\n",
        "dados = cursor.execute('SELECT AVG(saldo) FROM clientes')\n",
        "for clientes in dados:\n",
        "    print(clientes)"
      ],
      "metadata": {
        "colab": {
          "base_uri": "https://localhost:8080/"
        },
        "id": "Kua2CybFQ86P",
        "outputId": "32bfcac2-1901-4897-8c28-595b35e6b19e"
      },
      "execution_count": null,
      "outputs": [
        {
          "output_type": "stream",
          "name": "stdout",
          "text": [
            "(1950.375,)\n"
          ]
        }
      ]
    },
    {
      "cell_type": "markdown",
      "source": [
        "c) Encontre o cliente com o saldo máximo."
      ],
      "metadata": {
        "id": "5-KRzqg0R3w3"
      }
    },
    {
      "cell_type": "code",
      "source": [
        "#retornar clientes quando saldo = Selecionar saldo Máximo de clientes\n",
        "dados = cursor.execute('SELECT * FROM clientes WHERE saldo = (SELECT MAX(saldo) FROM clientes)')\n",
        "for clientes in dados:\n",
        "    print(clientes)"
      ],
      "metadata": {
        "colab": {
          "base_uri": "https://localhost:8080/"
        },
        "id": "bfbkb2BTRq9N",
        "outputId": "f02ae8e4-320c-4467-da77-3a4370c714fa"
      },
      "execution_count": null,
      "outputs": [
        {
          "output_type": "stream",
          "name": "stdout",
          "text": [
            "(3, 'Carla', 28, 2500.5)\n"
          ]
        }
      ]
    },
    {
      "cell_type": "markdown",
      "source": [
        "d) Conte quantos clientes têm saldo acima de 1000."
      ],
      "metadata": {
        "id": "s1wR2azvm8zJ"
      }
    },
    {
      "cell_type": "code",
      "source": [
        "#Editando cliente id = 1 para  saldo < 1000\n",
        "\n",
        "cursor.execute('UPDATE clientes SET saldo = 800.00 WHERE id = 1;')"
      ],
      "metadata": {
        "colab": {
          "base_uri": "https://localhost:8080/"
        },
        "id": "l7l1Vh73Ibmt",
        "outputId": "c4f1c88f-c521-4969-8e3f-c7be66de7f13"
      },
      "execution_count": null,
      "outputs": [
        {
          "output_type": "execute_result",
          "data": {
            "text/plain": [
              "<sqlite3.Cursor at 0x781f365e0b40>"
            ]
          },
          "metadata": {},
          "execution_count": 22
        }
      ]
    },
    {
      "cell_type": "code",
      "source": [
        "#Visualizando dados da tabela:\n",
        "dados = cursor.execute('SELECT * FROM clientes')\n",
        "for clientes in dados:\n",
        "    print(clientes)"
      ],
      "metadata": {
        "colab": {
          "base_uri": "https://localhost:8080/"
        },
        "id": "4S_BEc_qI6xE",
        "outputId": "5d961306-52ca-470d-95c5-ac19adf751d3"
      },
      "execution_count": null,
      "outputs": [
        {
          "output_type": "stream",
          "name": "stdout",
          "text": [
            "(1, 'Alice', 30, 800.0)\n",
            "(2, 'Bruno', 25, 2000.0)\n",
            "(3, 'Carla', 28, 2500.5)\n",
            "(4, 'Daniel', 35, 1800.25)\n"
          ]
        }
      ]
    },
    {
      "cell_type": "code",
      "source": [
        "#Contando número de clientes com saldo > 1000\n",
        "dados = cursor.execute('SELECT COUNT(*) FROM clientes WHERE saldo > 1000;')\n",
        "for clientes in dados:\n",
        "    print(clientes)\n"
      ],
      "metadata": {
        "colab": {
          "base_uri": "https://localhost:8080/"
        },
        "id": "aNxLi3MCIZoH",
        "outputId": "b80b945d-fca0-4087-cd56-0caf261e78c2"
      },
      "execution_count": null,
      "outputs": [
        {
          "output_type": "stream",
          "name": "stdout",
          "text": [
            "(3,)\n"
          ]
        }
      ]
    },
    {
      "cell_type": "markdown",
      "source": [
        "7. Atualização e Remoção com Condições\n",
        "\n",
        "a) Atualize o saldo de um cliente específico.\n"
      ],
      "metadata": {
        "id": "uvkTo_EfMMKe"
      }
    },
    {
      "cell_type": "code",
      "source": [
        "#Editando cliente id = 1 para o saldo anterior:\n",
        "\n",
        "cursor.execute('UPDATE clientes SET saldo = 1500.75 WHERE id = 1;')"
      ],
      "metadata": {
        "colab": {
          "base_uri": "https://localhost:8080/"
        },
        "id": "FRZ70OcFMNhY",
        "outputId": "e932a2bb-4d98-4676-8bce-38ec985c25f5"
      },
      "execution_count": null,
      "outputs": [
        {
          "output_type": "execute_result",
          "data": {
            "text/plain": [
              "<sqlite3.Cursor at 0x781f365e0b40>"
            ]
          },
          "metadata": {},
          "execution_count": 25
        }
      ]
    },
    {
      "cell_type": "code",
      "source": [
        "#Visualizando dados da tabela:\n",
        "dados = cursor.execute('SELECT * FROM clientes')\n",
        "for clientes in dados:\n",
        "    print(clientes)"
      ],
      "metadata": {
        "colab": {
          "base_uri": "https://localhost:8080/"
        },
        "id": "Nc-go2jUMft4",
        "outputId": "754c3ce8-272e-4892-a460-9009d6285c46"
      },
      "execution_count": null,
      "outputs": [
        {
          "output_type": "stream",
          "name": "stdout",
          "text": [
            "(1, 'Alice', 30, 1500.75)\n",
            "(2, 'Bruno', 25, 2000.0)\n",
            "(3, 'Carla', 28, 2500.5)\n",
            "(4, 'Daniel', 35, 1800.25)\n"
          ]
        }
      ]
    },
    {
      "cell_type": "markdown",
      "source": [
        "b) Remova um cliente pelo seu ID."
      ],
      "metadata": {
        "id": "Bubd1rliU2iL"
      }
    },
    {
      "cell_type": "code",
      "source": [
        "#Deletando cliente id=4\n",
        "\n",
        "cursor.execute('DELETE FROM clientes WHERE id=4')"
      ],
      "metadata": {
        "colab": {
          "base_uri": "https://localhost:8080/"
        },
        "id": "I4dFs8hIMskE",
        "outputId": "8622fa2e-eddc-42dd-f21e-04d5620f46c5"
      },
      "execution_count": null,
      "outputs": [
        {
          "output_type": "execute_result",
          "data": {
            "text/plain": [
              "<sqlite3.Cursor at 0x781f365e0b40>"
            ]
          },
          "metadata": {},
          "execution_count": 27
        }
      ]
    },
    {
      "cell_type": "code",
      "source": [
        "#Visualizando dados atualizados:\n",
        "\n",
        "dados = cursor.execute('SELECT * FROM clientes')\n",
        "for clientes in dados:\n",
        "    print(clientes)"
      ],
      "metadata": {
        "colab": {
          "base_uri": "https://localhost:8080/"
        },
        "id": "4Avg2IZ0MyLT",
        "outputId": "5752a17c-2239-4947-d044-9eab50e0c82a"
      },
      "execution_count": null,
      "outputs": [
        {
          "output_type": "stream",
          "name": "stdout",
          "text": [
            "(1, 'Alice', 30, 1500.75)\n",
            "(2, 'Bruno', 25, 2000.0)\n",
            "(3, 'Carla', 28, 2500.5)\n"
          ]
        }
      ]
    },
    {
      "cell_type": "markdown",
      "source": [
        "8. Junção de Tabelas\n",
        "\n",
        "Crie uma segunda tabela chamada \"compras\" com os campos: id\n",
        "(chave primária), cliente_id (chave estrangeira referenciando o id da tabela \"clientes\"), produto (texto) e valor (real). Insira algumas compras associadas a clientes existentes na tabela \"clientes\". Escreva uma consulta para exibir o nome do cliente, o produto e o valor de cada compra."
      ],
      "metadata": {
        "id": "xhakLinSVAME"
      }
    },
    {
      "cell_type": "code",
      "source": [
        "#Criando tabela compras:\n",
        "cursor.execute('CREATE TABLE compras (id INTEGER PRIMARY KEY,cliente_id INTEGER, produto TEXT, valor REAL, FOREIGN KEY (cliente_id) REFERENCES clientes(id))')"
      ],
      "metadata": {
        "colab": {
          "base_uri": "https://localhost:8080/"
        },
        "id": "FryhCBXJVGd7",
        "outputId": "974d4023-8850-4962-c630-1fe068d42677"
      },
      "execution_count": null,
      "outputs": [
        {
          "output_type": "execute_result",
          "data": {
            "text/plain": [
              "<sqlite3.Cursor at 0x781f365e0b40>"
            ]
          },
          "metadata": {},
          "execution_count": 29
        }
      ]
    },
    {
      "cell_type": "code",
      "source": [
        "#Inserindo dados na tabela compras:\n",
        "\n",
        "cursor.execute('INSERT INTO compras (id, cliente_id, produto, valor) VALUES (1, 1, \"Notebook\", 1200.00), (2, 2, \"Smartphone\", 800.00),(3, 3, \"Fone de Ouvido\", 150.00),(4, 4, \"Cadeira Gamer\", 600.00),(5, 1, \"Teclado Mecânico\", 300.00)')"
      ],
      "metadata": {
        "colab": {
          "base_uri": "https://localhost:8080/"
        },
        "id": "aFGbPZrcebwM",
        "outputId": "510fddff-74dc-48e6-b1f9-8115069851c8"
      },
      "execution_count": null,
      "outputs": [
        {
          "output_type": "execute_result",
          "data": {
            "text/plain": [
              "<sqlite3.Cursor at 0x781f365e0b40>"
            ]
          },
          "metadata": {},
          "execution_count": 30
        }
      ]
    },
    {
      "cell_type": "code",
      "source": [
        "#Visualizar dados da tabela:\n",
        "\n",
        "dados = cursor.execute('SELECT * FROM compras')\n",
        "for compras in dados:\n",
        "    print(compras)"
      ],
      "metadata": {
        "colab": {
          "base_uri": "https://localhost:8080/"
        },
        "id": "mr8FwyyWei-a",
        "outputId": "35b928df-fd3c-4cbd-8db5-cbe113523a8a"
      },
      "execution_count": null,
      "outputs": [
        {
          "output_type": "stream",
          "name": "stdout",
          "text": [
            "(1, 1, 'Notebook', 1200.0)\n",
            "(2, 2, 'Smartphone', 800.0)\n",
            "(3, 3, 'Fone de Ouvido', 150.0)\n",
            "(4, 4, 'Cadeira Gamer', 600.0)\n",
            "(5, 1, 'Teclado Mecânico', 300.0)\n"
          ]
        }
      ]
    },
    {
      "cell_type": "code",
      "source": [
        "#Trazendo dados de nome, produto e valor das tabelas clientes e compras:\n",
        "dados = cursor.execute('SELECT c.nome, co.produto, co.valor FROM clientes c JOIN compras co ON c.id = co.cliente_id;')\n",
        "for clientes in dados:\n",
        "    print(clientes)"
      ],
      "metadata": {
        "colab": {
          "base_uri": "https://localhost:8080/"
        },
        "id": "NgSJtN6HilrJ",
        "outputId": "eb5510d1-b51a-4a13-823f-0e20b55aedf7"
      },
      "execution_count": null,
      "outputs": [
        {
          "output_type": "stream",
          "name": "stdout",
          "text": [
            "('Alice', 'Notebook', 1200.0)\n",
            "('Bruno', 'Smartphone', 800.0)\n",
            "('Carla', 'Fone de Ouvido', 150.0)\n",
            "('Alice', 'Teclado Mecânico', 300.0)\n"
          ]
        }
      ]
    }
  ]
}